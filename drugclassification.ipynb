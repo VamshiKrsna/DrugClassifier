{
 "cells": [
  {
   "cell_type": "code",
   "execution_count": 7,
   "metadata": {
    "_cell_guid": "b1076dfc-b9ad-4769-8c92-a6c4dae69d19",
    "_uuid": "8f2839f25d086af736a60e9eeb907d3b93b6e0e5",
    "execution": {
     "iopub.execute_input": "2023-05-07T04:14:12.865297Z",
     "iopub.status.busy": "2023-05-07T04:14:12.864906Z",
     "iopub.status.idle": "2023-05-07T04:14:12.881143Z",
     "shell.execute_reply": "2023-05-07T04:14:12.879802Z",
     "shell.execute_reply.started": "2023-05-07T04:14:12.865265Z"
    }
   },
   "outputs": [],
   "source": [
    "import numpy as np \n",
    "import pandas as pd "
   ]
  },
  {
   "cell_type": "markdown",
   "metadata": {},
   "source": [
    "# Dataset "
   ]
  },
  {
   "cell_type": "code",
   "execution_count": 9,
   "metadata": {
    "execution": {
     "iopub.execute_input": "2023-05-07T04:14:40.658564Z",
     "iopub.status.busy": "2023-05-07T04:14:40.658198Z",
     "iopub.status.idle": "2023-05-07T04:14:40.711047Z",
     "shell.execute_reply": "2023-05-07T04:14:40.710323Z",
     "shell.execute_reply.started": "2023-05-07T04:14:40.658536Z"
    }
   },
   "outputs": [
    {
     "data": {
      "text/html": [
       "<div>\n",
       "<style scoped>\n",
       "    .dataframe tbody tr th:only-of-type {\n",
       "        vertical-align: middle;\n",
       "    }\n",
       "\n",
       "    .dataframe tbody tr th {\n",
       "        vertical-align: top;\n",
       "    }\n",
       "\n",
       "    .dataframe thead th {\n",
       "        text-align: right;\n",
       "    }\n",
       "</style>\n",
       "<table border=\"1\" class=\"dataframe\">\n",
       "  <thead>\n",
       "    <tr style=\"text-align: right;\">\n",
       "      <th></th>\n",
       "      <th>Age</th>\n",
       "      <th>Sex</th>\n",
       "      <th>BP</th>\n",
       "      <th>Cholesterol</th>\n",
       "      <th>Na_to_K</th>\n",
       "      <th>Drug</th>\n",
       "    </tr>\n",
       "  </thead>\n",
       "  <tbody>\n",
       "    <tr>\n",
       "      <th>0</th>\n",
       "      <td>23</td>\n",
       "      <td>F</td>\n",
       "      <td>HIGH</td>\n",
       "      <td>HIGH</td>\n",
       "      <td>25.355</td>\n",
       "      <td>DrugY</td>\n",
       "    </tr>\n",
       "    <tr>\n",
       "      <th>1</th>\n",
       "      <td>47</td>\n",
       "      <td>M</td>\n",
       "      <td>LOW</td>\n",
       "      <td>HIGH</td>\n",
       "      <td>13.093</td>\n",
       "      <td>drugC</td>\n",
       "    </tr>\n",
       "    <tr>\n",
       "      <th>2</th>\n",
       "      <td>47</td>\n",
       "      <td>M</td>\n",
       "      <td>LOW</td>\n",
       "      <td>HIGH</td>\n",
       "      <td>10.114</td>\n",
       "      <td>drugC</td>\n",
       "    </tr>\n",
       "    <tr>\n",
       "      <th>3</th>\n",
       "      <td>28</td>\n",
       "      <td>F</td>\n",
       "      <td>NORMAL</td>\n",
       "      <td>HIGH</td>\n",
       "      <td>7.798</td>\n",
       "      <td>drugX</td>\n",
       "    </tr>\n",
       "    <tr>\n",
       "      <th>4</th>\n",
       "      <td>61</td>\n",
       "      <td>F</td>\n",
       "      <td>LOW</td>\n",
       "      <td>HIGH</td>\n",
       "      <td>18.043</td>\n",
       "      <td>DrugY</td>\n",
       "    </tr>\n",
       "  </tbody>\n",
       "</table>\n",
       "</div>"
      ],
      "text/plain": [
       "   Age Sex      BP Cholesterol  Na_to_K   Drug\n",
       "0   23   F    HIGH        HIGH   25.355  DrugY\n",
       "1   47   M     LOW        HIGH   13.093  drugC\n",
       "2   47   M     LOW        HIGH   10.114  drugC\n",
       "3   28   F  NORMAL        HIGH    7.798  drugX\n",
       "4   61   F     LOW        HIGH   18.043  DrugY"
      ]
     },
     "execution_count": 9,
     "metadata": {},
     "output_type": "execute_result"
    }
   ],
   "source": [
    "df = pd.read_csv(\"drug.csv\")\n",
    "df.head()"
   ]
  },
  {
   "cell_type": "code",
   "execution_count": 10,
   "metadata": {
    "execution": {
     "iopub.execute_input": "2023-05-07T04:14:52.319654Z",
     "iopub.status.busy": "2023-05-07T04:14:52.319285Z",
     "iopub.status.idle": "2023-05-07T04:14:52.352760Z",
     "shell.execute_reply": "2023-05-07T04:14:52.351601Z",
     "shell.execute_reply.started": "2023-05-07T04:14:52.319625Z"
    }
   },
   "outputs": [
    {
     "name": "stdout",
     "output_type": "stream",
     "text": [
      "<class 'pandas.core.frame.DataFrame'>\n",
      "RangeIndex: 200 entries, 0 to 199\n",
      "Data columns (total 6 columns):\n",
      " #   Column       Non-Null Count  Dtype  \n",
      "---  ------       --------------  -----  \n",
      " 0   Age          200 non-null    int64  \n",
      " 1   Sex          200 non-null    object \n",
      " 2   BP           200 non-null    object \n",
      " 3   Cholesterol  200 non-null    object \n",
      " 4   Na_to_K      200 non-null    float64\n",
      " 5   Drug         200 non-null    object \n",
      "dtypes: float64(1), int64(1), object(4)\n",
      "memory usage: 9.5+ KB\n"
     ]
    }
   ],
   "source": [
    "df.info()"
   ]
  },
  {
   "cell_type": "code",
   "execution_count": 11,
   "metadata": {
    "execution": {
     "iopub.execute_input": "2023-05-07T04:14:58.805577Z",
     "iopub.status.busy": "2023-05-07T04:14:58.805206Z",
     "iopub.status.idle": "2023-05-07T04:14:58.830807Z",
     "shell.execute_reply": "2023-05-07T04:14:58.829768Z",
     "shell.execute_reply.started": "2023-05-07T04:14:58.805549Z"
    }
   },
   "outputs": [
    {
     "data": {
      "text/html": [
       "<div>\n",
       "<style scoped>\n",
       "    .dataframe tbody tr th:only-of-type {\n",
       "        vertical-align: middle;\n",
       "    }\n",
       "\n",
       "    .dataframe tbody tr th {\n",
       "        vertical-align: top;\n",
       "    }\n",
       "\n",
       "    .dataframe thead th {\n",
       "        text-align: right;\n",
       "    }\n",
       "</style>\n",
       "<table border=\"1\" class=\"dataframe\">\n",
       "  <thead>\n",
       "    <tr style=\"text-align: right;\">\n",
       "      <th></th>\n",
       "      <th>Age</th>\n",
       "      <th>Na_to_K</th>\n",
       "    </tr>\n",
       "  </thead>\n",
       "  <tbody>\n",
       "    <tr>\n",
       "      <th>count</th>\n",
       "      <td>200.000000</td>\n",
       "      <td>200.000000</td>\n",
       "    </tr>\n",
       "    <tr>\n",
       "      <th>mean</th>\n",
       "      <td>44.315000</td>\n",
       "      <td>16.084485</td>\n",
       "    </tr>\n",
       "    <tr>\n",
       "      <th>std</th>\n",
       "      <td>16.544315</td>\n",
       "      <td>7.223956</td>\n",
       "    </tr>\n",
       "    <tr>\n",
       "      <th>min</th>\n",
       "      <td>15.000000</td>\n",
       "      <td>6.269000</td>\n",
       "    </tr>\n",
       "    <tr>\n",
       "      <th>25%</th>\n",
       "      <td>31.000000</td>\n",
       "      <td>10.445500</td>\n",
       "    </tr>\n",
       "    <tr>\n",
       "      <th>50%</th>\n",
       "      <td>45.000000</td>\n",
       "      <td>13.936500</td>\n",
       "    </tr>\n",
       "    <tr>\n",
       "      <th>75%</th>\n",
       "      <td>58.000000</td>\n",
       "      <td>19.380000</td>\n",
       "    </tr>\n",
       "    <tr>\n",
       "      <th>max</th>\n",
       "      <td>74.000000</td>\n",
       "      <td>38.247000</td>\n",
       "    </tr>\n",
       "  </tbody>\n",
       "</table>\n",
       "</div>"
      ],
      "text/plain": [
       "              Age     Na_to_K\n",
       "count  200.000000  200.000000\n",
       "mean    44.315000   16.084485\n",
       "std     16.544315    7.223956\n",
       "min     15.000000    6.269000\n",
       "25%     31.000000   10.445500\n",
       "50%     45.000000   13.936500\n",
       "75%     58.000000   19.380000\n",
       "max     74.000000   38.247000"
      ]
     },
     "execution_count": 11,
     "metadata": {},
     "output_type": "execute_result"
    }
   ],
   "source": [
    "df.describe()"
   ]
  },
  {
   "cell_type": "code",
   "execution_count": 12,
   "metadata": {
    "execution": {
     "iopub.execute_input": "2023-05-07T04:15:48.928821Z",
     "iopub.status.busy": "2023-05-07T04:15:48.928430Z",
     "iopub.status.idle": "2023-05-07T04:15:48.935364Z",
     "shell.execute_reply": "2023-05-07T04:15:48.934040Z",
     "shell.execute_reply.started": "2023-05-07T04:15:48.928792Z"
    }
   },
   "outputs": [
    {
     "data": {
      "text/plain": [
       "(200, 6)"
      ]
     },
     "execution_count": 12,
     "metadata": {},
     "output_type": "execute_result"
    }
   ],
   "source": [
    "df.shape"
   ]
  },
  {
   "cell_type": "markdown",
   "metadata": {},
   "source": [
    "# Encoding Values :"
   ]
  },
  {
   "cell_type": "code",
   "execution_count": 13,
   "metadata": {
    "execution": {
     "iopub.execute_input": "2023-05-07T04:15:25.585176Z",
     "iopub.status.busy": "2023-05-07T04:15:25.584572Z",
     "iopub.status.idle": "2023-05-07T04:15:25.594907Z",
     "shell.execute_reply": "2023-05-07T04:15:25.593694Z",
     "shell.execute_reply.started": "2023-05-07T04:15:25.585144Z"
    }
   },
   "outputs": [
    {
     "data": {
      "text/plain": [
       "M    104\n",
       "F     96\n",
       "Name: Sex, dtype: int64"
      ]
     },
     "execution_count": 13,
     "metadata": {},
     "output_type": "execute_result"
    }
   ],
   "source": [
    "df[\"Sex\"].value_counts()"
   ]
  },
  {
   "cell_type": "code",
   "execution_count": 14,
   "metadata": {
    "execution": {
     "iopub.execute_input": "2023-05-07T04:27:23.634826Z",
     "iopub.status.busy": "2023-05-07T04:27:23.634445Z",
     "iopub.status.idle": "2023-05-07T04:27:23.641476Z",
     "shell.execute_reply": "2023-05-07T04:27:23.640589Z",
     "shell.execute_reply.started": "2023-05-07T04:27:23.634796Z"
    }
   },
   "outputs": [],
   "source": [
    "def encoder(df):\n",
    "    if df == \"M\":\n",
    "        return 1\n",
    "    else:\n",
    "        return 0\n",
    "\n",
    "df['Sex'] = df['Sex'].apply(encoder)"
   ]
  },
  {
   "cell_type": "code",
   "execution_count": 15,
   "metadata": {
    "execution": {
     "iopub.execute_input": "2023-05-07T04:17:11.611085Z",
     "iopub.status.busy": "2023-05-07T04:17:11.610539Z",
     "iopub.status.idle": "2023-05-07T04:17:11.621229Z",
     "shell.execute_reply": "2023-05-07T04:17:11.620144Z",
     "shell.execute_reply.started": "2023-05-07T04:17:11.611040Z"
    }
   },
   "outputs": [
    {
     "data": {
      "text/plain": [
       "HIGH      77\n",
       "LOW       64\n",
       "NORMAL    59\n",
       "Name: BP, dtype: int64"
      ]
     },
     "execution_count": 15,
     "metadata": {},
     "output_type": "execute_result"
    }
   ],
   "source": [
    "df[\"BP\"].value_counts()"
   ]
  },
  {
   "cell_type": "code",
   "execution_count": 16,
   "metadata": {
    "execution": {
     "iopub.execute_input": "2023-05-07T04:27:31.643642Z",
     "iopub.status.busy": "2023-05-07T04:27:31.643257Z",
     "iopub.status.idle": "2023-05-07T04:27:31.650542Z",
     "shell.execute_reply": "2023-05-07T04:27:31.649406Z",
     "shell.execute_reply.started": "2023-05-07T04:27:31.643610Z"
    }
   },
   "outputs": [],
   "source": [
    "def encode(df):\n",
    "    if df == \"LOW\":\n",
    "        return 0\n",
    "    elif df == \"NORMAL\":\n",
    "        return 1\n",
    "    else : return 2\n",
    "    \n",
    "df['BP'] = df['BP'].apply(encode)"
   ]
  },
  {
   "cell_type": "code",
   "execution_count": 17,
   "metadata": {
    "execution": {
     "iopub.execute_input": "2023-05-07T04:19:05.993875Z",
     "iopub.status.busy": "2023-05-07T04:19:05.993454Z",
     "iopub.status.idle": "2023-05-07T04:19:06.003845Z",
     "shell.execute_reply": "2023-05-07T04:19:06.002610Z",
     "shell.execute_reply.started": "2023-05-07T04:19:05.993841Z"
    }
   },
   "outputs": [
    {
     "data": {
      "text/plain": [
       "HIGH      103\n",
       "NORMAL     97\n",
       "Name: Cholesterol, dtype: int64"
      ]
     },
     "execution_count": 17,
     "metadata": {},
     "output_type": "execute_result"
    }
   ],
   "source": [
    "df[\"Cholesterol\"].value_counts()"
   ]
  },
  {
   "cell_type": "code",
   "execution_count": 18,
   "metadata": {
    "execution": {
     "iopub.execute_input": "2023-05-07T04:27:39.562754Z",
     "iopub.status.busy": "2023-05-07T04:27:39.562371Z",
     "iopub.status.idle": "2023-05-07T04:27:39.569168Z",
     "shell.execute_reply": "2023-05-07T04:27:39.568289Z",
     "shell.execute_reply.started": "2023-05-07T04:27:39.562724Z"
    }
   },
   "outputs": [],
   "source": [
    "def encoder(df):\n",
    "    if df == \"HIGH\":\n",
    "        return 1\n",
    "    else:\n",
    "        return 0\n",
    "\n",
    "df['Cholesterol'] = df['Cholesterol'].apply(encoder)"
   ]
  },
  {
   "cell_type": "code",
   "execution_count": 19,
   "metadata": {
    "execution": {
     "iopub.execute_input": "2023-05-07T04:20:28.365340Z",
     "iopub.status.busy": "2023-05-07T04:20:28.364640Z",
     "iopub.status.idle": "2023-05-07T04:20:28.375476Z",
     "shell.execute_reply": "2023-05-07T04:20:28.374220Z",
     "shell.execute_reply.started": "2023-05-07T04:20:28.365298Z"
    }
   },
   "outputs": [
    {
     "data": {
      "text/plain": [
       "DrugY    91\n",
       "drugX    54\n",
       "drugA    23\n",
       "drugC    16\n",
       "drugB    16\n",
       "Name: Drug, dtype: int64"
      ]
     },
     "execution_count": 19,
     "metadata": {},
     "output_type": "execute_result"
    }
   ],
   "source": [
    "df['Drug'].value_counts()"
   ]
  },
  {
   "cell_type": "code",
   "execution_count": 20,
   "metadata": {
    "execution": {
     "iopub.execute_input": "2023-05-07T04:27:47.829249Z",
     "iopub.status.busy": "2023-05-07T04:27:47.828531Z",
     "iopub.status.idle": "2023-05-07T04:27:47.836106Z",
     "shell.execute_reply": "2023-05-07T04:27:47.834776Z",
     "shell.execute_reply.started": "2023-05-07T04:27:47.829210Z"
    }
   },
   "outputs": [],
   "source": [
    "def encoder(df):\n",
    "    if df == \"DrugX\":\n",
    "        return 0\n",
    "    elif df == \"DrugY\":\n",
    "        return 1\n",
    "    elif df == \"DrugA\":\n",
    "        return 2\n",
    "    elif df == \"DrugB\":\n",
    "        return 3\n",
    "    else:\n",
    "        return 4\n",
    "\n",
    "df['Drug'] = df['Drug'].apply(encoder)"
   ]
  },
  {
   "cell_type": "code",
   "execution_count": 21,
   "metadata": {
    "execution": {
     "iopub.execute_input": "2023-05-07T04:27:52.590317Z",
     "iopub.status.busy": "2023-05-07T04:27:52.589934Z",
     "iopub.status.idle": "2023-05-07T04:27:52.602587Z",
     "shell.execute_reply": "2023-05-07T04:27:52.601556Z",
     "shell.execute_reply.started": "2023-05-07T04:27:52.590286Z"
    }
   },
   "outputs": [
    {
     "name": "stdout",
     "output_type": "stream",
     "text": [
      "<class 'pandas.core.frame.DataFrame'>\n",
      "RangeIndex: 200 entries, 0 to 199\n",
      "Data columns (total 6 columns):\n",
      " #   Column       Non-Null Count  Dtype  \n",
      "---  ------       --------------  -----  \n",
      " 0   Age          200 non-null    int64  \n",
      " 1   Sex          200 non-null    int64  \n",
      " 2   BP           200 non-null    int64  \n",
      " 3   Cholesterol  200 non-null    int64  \n",
      " 4   Na_to_K      200 non-null    float64\n",
      " 5   Drug         200 non-null    int64  \n",
      "dtypes: float64(1), int64(5)\n",
      "memory usage: 9.5 KB\n"
     ]
    }
   ],
   "source": [
    "df.info()"
   ]
  },
  {
   "cell_type": "markdown",
   "metadata": {},
   "source": [
    "# Splitting The Data"
   ]
  },
  {
   "cell_type": "code",
   "execution_count": 22,
   "metadata": {
    "execution": {
     "iopub.execute_input": "2023-05-07T04:27:55.038905Z",
     "iopub.status.busy": "2023-05-07T04:27:55.038532Z",
     "iopub.status.idle": "2023-05-07T04:27:55.044165Z",
     "shell.execute_reply": "2023-05-07T04:27:55.043228Z",
     "shell.execute_reply.started": "2023-05-07T04:27:55.038875Z"
    }
   },
   "outputs": [],
   "source": [
    "X = df.drop(\"Drug\", axis = 1)\n",
    "y = df['Drug']"
   ]
  },
  {
   "cell_type": "code",
   "execution_count": 23,
   "metadata": {
    "execution": {
     "iopub.execute_input": "2023-05-07T04:27:55.818208Z",
     "iopub.status.busy": "2023-05-07T04:27:55.817812Z",
     "iopub.status.idle": "2023-05-07T04:27:55.825474Z",
     "shell.execute_reply": "2023-05-07T04:27:55.824729Z",
     "shell.execute_reply.started": "2023-05-07T04:27:55.818176Z"
    }
   },
   "outputs": [
    {
     "name": "stderr",
     "output_type": "stream",
     "text": [
      "C:\\ProgramData\\Anaconda3\\lib\\site-packages\\scipy\\__init__.py:138: UserWarning: A NumPy version >=1.16.5 and <1.23.0 is required for this version of SciPy (detected version 1.23.5)\n",
      "  warnings.warn(f\"A NumPy version >={np_minversion} and <{np_maxversion} is required for this version of \"\n"
     ]
    }
   ],
   "source": [
    "from sklearn.model_selection import train_test_split\n",
    "\n",
    "X_train, X_test, y_train, y_test = train_test_split(X, y, test_size=0.3, random_state=101)"
   ]
  },
  {
   "cell_type": "markdown",
   "metadata": {},
   "source": [
    "# Random Forest Classifier "
   ]
  },
  {
   "cell_type": "code",
   "execution_count": 24,
   "metadata": {
    "execution": {
     "iopub.execute_input": "2023-05-07T04:27:56.691584Z",
     "iopub.status.busy": "2023-05-07T04:27:56.690253Z",
     "iopub.status.idle": "2023-05-07T04:27:56.875643Z",
     "shell.execute_reply": "2023-05-07T04:27:56.874498Z",
     "shell.execute_reply.started": "2023-05-07T04:27:56.691544Z"
    }
   },
   "outputs": [
    {
     "data": {
      "text/plain": [
       "RandomForestClassifier()"
      ]
     },
     "execution_count": 24,
     "metadata": {},
     "output_type": "execute_result"
    }
   ],
   "source": [
    "from sklearn.ensemble import RandomForestClassifier\n",
    "\n",
    "RFC = RandomForestClassifier()\n",
    "\n",
    "RFC.fit(X_train, y_train)"
   ]
  },
  {
   "cell_type": "code",
   "execution_count": 25,
   "metadata": {
    "execution": {
     "iopub.execute_input": "2023-05-07T04:29:32.067248Z",
     "iopub.status.busy": "2023-05-07T04:29:32.066856Z",
     "iopub.status.idle": "2023-05-07T04:29:32.103954Z",
     "shell.execute_reply": "2023-05-07T04:29:32.102504Z",
     "shell.execute_reply.started": "2023-05-07T04:29:32.067218Z"
    }
   },
   "outputs": [
    {
     "name": "stdout",
     "output_type": "stream",
     "text": [
      "              precision    recall  f1-score   support\n",
      "\n",
      "           1       1.00      0.96      0.98        27\n",
      "           4       0.97      1.00      0.99        33\n",
      "\n",
      "    accuracy                           0.98        60\n",
      "   macro avg       0.99      0.98      0.98        60\n",
      "weighted avg       0.98      0.98      0.98        60\n",
      "\n",
      "98.33333333333333\n"
     ]
    }
   ],
   "source": [
    "preds = RFC.predict(X_test)\n",
    "\n",
    "from sklearn.metrics import classification_report,accuracy_score\n",
    "\n",
    "print(classification_report(preds,y_test))\n",
    "\n",
    "print(accuracy_score(preds,y_test) * 100)"
   ]
  },
  {
   "cell_type": "markdown",
   "metadata": {},
   "source": [
    "## 98% accuracy model."
   ]
  },
  {
   "cell_type": "code",
   "execution_count": 26,
   "metadata": {
    "execution": {
     "iopub.execute_input": "2023-05-07T04:30:12.331189Z",
     "iopub.status.busy": "2023-05-07T04:30:12.330652Z",
     "iopub.status.idle": "2023-05-07T04:30:12.393467Z",
     "shell.execute_reply": "2023-05-07T04:30:12.392407Z",
     "shell.execute_reply.started": "2023-05-07T04:30:12.331153Z"
    }
   },
   "outputs": [
    {
     "data": {
      "text/plain": [
       "['drug.pkl']"
      ]
     },
     "execution_count": 26,
     "metadata": {},
     "output_type": "execute_result"
    }
   ],
   "source": [
    "import joblib\n",
    "\n",
    "joblib.dump(RFC, 'drug.pkl')"
   ]
  },
  {
   "cell_type": "code",
   "execution_count": 27,
   "metadata": {},
   "outputs": [],
   "source": [
    "model = joblib.load('drug.pkl')"
   ]
  },
  {
   "cell_type": "code",
   "execution_count": 30,
   "metadata": {},
   "outputs": [
    {
     "data": {
      "text/plain": [
       "array([4], dtype=int64)"
      ]
     },
     "execution_count": 30,
     "metadata": {},
     "output_type": "execute_result"
    }
   ],
   "source": [
    "model.predict([[0,0,0,0,0]])"
   ]
  },
  {
   "cell_type": "code",
   "execution_count": null,
   "metadata": {},
   "outputs": [],
   "source": []
  }
 ],
 "metadata": {
  "kernelspec": {
   "display_name": "Python 3",
   "language": "python",
   "name": "python3"
  },
  "language_info": {
   "codemirror_mode": {
    "name": "ipython",
    "version": 3
   },
   "file_extension": ".py",
   "mimetype": "text/x-python",
   "name": "python",
   "nbconvert_exporter": "python",
   "pygments_lexer": "ipython3",
   "version": "3.8.8"
  }
 },
 "nbformat": 4,
 "nbformat_minor": 4
}
